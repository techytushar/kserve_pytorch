{
  "cells": [
    {
      "cell_type": "code",
      "execution_count": null,
      "metadata": {
        "colab": {
          "base_uri": "https://localhost:8080/"
        },
        "id": "Yaf1j5ogLLkK",
        "outputId": "94a029fd-a2c0-4ab8-a147-462841c095b1"
      },
      "outputs": [
        {
          "name": "stderr",
          "output_type": "stream",
          "text": [
            "2024/03/09 17:06:14 INFO mlflow.tracking.fluent: Experiment with name 'MNIST' does not exist. Creating a new experiment.\n"
          ]
        },
        {
          "data": {
            "text/plain": [
              "<Experiment: artifact_location='file:///content/mlruns/920408031089973856', creation_time=1710003974367, experiment_id='920408031089973856', last_update_time=1710003974367, lifecycle_stage='active', name='MNIST', tags={}>"
            ]
          },
          "execution_count": 5,
          "metadata": {},
          "output_type": "execute_result"
        }
      ],
      "source": [
        "import torch\n",
        "import torch.optim as optim\n",
        "from torchvision import datasets\n",
        "from torchvision.transforms import v2\n",
        "from torch.utils.data.dataloader import DataLoader\n",
        "from torch.utils.data import Subset\n",
        "from torchvision.models.mobilenet import mobilenet_v2, MobileNet_V2_Weights\n",
        "from torch.optim.lr_scheduler import StepLR\n",
        "from torch.nn import CrossEntropyLoss\n",
        "\n",
        "from sklearn.model_selection import train_test_split\n",
        "import numpy as np\n",
        "from collections import Counter\n",
        "import matplotlib.pyplot as plt\n",
        "import mlflow\n",
        "\n",
        "SEED = 42\n",
        "torch.manual_seed(SEED)\n",
        "mlflow.set_tracking_uri(\"http://localhost:5000\")\n",
        "mlflow.set_experiment(\"MNIST\")"
      ]
    },
    {
      "cell_type": "code",
      "execution_count": null,
      "metadata": {
        "colab": {
          "base_uri": "https://localhost:8080/"
        },
        "id": "A6Ynnf9dLLkN",
        "outputId": "9a64f428-8dc8-4b5f-cecc-763ddf477a91"
      },
      "outputs": [
        {
          "data": {
            "text/plain": [
              "device(type='cuda')"
            ]
          },
          "execution_count": 6,
          "metadata": {},
          "output_type": "execute_result"
        }
      ],
      "source": [
        "device = torch.device(\"cuda\" if torch.cuda.is_available() else \"cpu\")\n",
        "device"
      ]
    },
    {
      "cell_type": "markdown",
      "metadata": {
        "id": "1zhRPyI_LLkO"
      },
      "source": [
        "## Loading Data"
      ]
    },
    {
      "cell_type": "code",
      "execution_count": null,
      "metadata": {
        "id": "Hbex6v4HLLkP"
      },
      "outputs": [],
      "source": [
        "transform = v2.Compose([\n",
        "    v2.RandomRotation((-7.0,7.0)),\n",
        "    v2.ToImage(),\n",
        "    v2.ToDtype(torch.float32, scale=True),\n",
        "    v2.Normalize((0.1307,), (0.3081,)),\n",
        "])"
      ]
    },
    {
      "cell_type": "code",
      "execution_count": null,
      "metadata": {
        "colab": {
          "base_uri": "https://localhost:8080/"
        },
        "id": "SkX4INVmLLkP",
        "outputId": "ee999443-22bd-4088-dda5-d0e6ac07a616"
      },
      "outputs": [
        {
          "data": {
            "text/plain": [
              "(57000, 3000, 10000)"
            ]
          },
          "execution_count": 42,
          "metadata": {},
          "output_type": "execute_result"
        }
      ],
      "source": [
        "VALIDATION_SIZE = 0.05\n",
        "mnist = datasets.MNIST(\n",
        "    'data',\n",
        "    train=True,\n",
        "    download=True,\n",
        "    transform=transform\n",
        ")\n",
        "# stratified split\n",
        "train_idx, val_idx = train_test_split(\n",
        "    np.arange(len(mnist)),\n",
        "    test_size=VALIDATION_SIZE,\n",
        "    random_state=SEED,\n",
        "    shuffle=True,\n",
        "    stratify=mnist.targets\n",
        ")\n",
        "\n",
        "train = Subset(mnist, train_idx)\n",
        "validation = Subset(mnist, val_idx)\n",
        "\n",
        "test = datasets.MNIST(\n",
        "    'data',\n",
        "    train=False,\n",
        "    download=True,\n",
        "    transform=transform\n",
        ")\n",
        "len(train), len(validation), len(test)"
      ]
    },
    {
      "cell_type": "code",
      "execution_count": null,
      "metadata": {
        "id": "xFCyPz0fLLkP"
      },
      "outputs": [],
      "source": [
        "BATCH_SIZE = 500\n",
        "NUM_WORKERS = 4\n",
        "train_loader = DataLoader(\n",
        "    train,\n",
        "    batch_size=BATCH_SIZE,\n",
        "    num_workers=NUM_WORKERS,\n",
        "    shuffle=True,\n",
        ")\n",
        "val_loader = DataLoader(\n",
        "    validation,\n",
        "    batch_size=BATCH_SIZE,\n",
        "    num_workers=NUM_WORKERS,\n",
        "    shuffle=True,\n",
        ")\n",
        "test_loader = DataLoader(\n",
        "    test,\n",
        "    batch_size=BATCH_SIZE,\n",
        "    num_workers=NUM_WORKERS,\n",
        "    shuffle=True,\n",
        ")"
      ]
    },
    {
      "cell_type": "markdown",
      "metadata": {
        "id": "XWthOnSqLLkP"
      },
      "source": [
        "## EDA"
      ]
    },
    {
      "cell_type": "code",
      "execution_count": null,
      "metadata": {
        "id": "iUjFHUshLLkQ",
        "outputId": "4b6b31e1-c44c-40f2-b15b-448124b67f85"
      },
      "outputs": [
        {
          "name": "stdout",
          "output_type": "stream",
          "text": [
            "Train distribution: \n"
          ]
        },
        {
          "data": {
            "text/plain": [
              "Counter({1: 6405,\n",
              "         7: 5952,\n",
              "         3: 5824,\n",
              "         2: 5660,\n",
              "         9: 5652,\n",
              "         0: 5627,\n",
              "         6: 5622,\n",
              "         8: 5558,\n",
              "         4: 5550,\n",
              "         5: 5150})"
            ]
          },
          "execution_count": 88,
          "metadata": {},
          "output_type": "execute_result"
        }
      ],
      "source": [
        "print(\"Train distribution: \")\n",
        "Counter(label for _, label in train)"
      ]
    },
    {
      "cell_type": "code",
      "execution_count": null,
      "metadata": {
        "id": "OObCFoSwLLkQ"
      },
      "outputs": [],
      "source": [
        "tensor_img_transform = v2.ToPILImage()"
      ]
    },
    {
      "cell_type": "code",
      "execution_count": null,
      "metadata": {
        "id": "f6lnS6ziLLkQ",
        "outputId": "550a1f8d-9292-4e70-9d3d-c1ba5bcf8cb6"
      },
      "outputs": [
        {
          "name": "stdout",
          "output_type": "stream",
          "text": [
            "9 torch.Size([1, 28, 28])\n"
          ]
        },
        {
          "data": {
            "image/png": "[encoded data removed]",
            "text/plain": [
              "<Figure size 640x480 with 1 Axes>"
            ]
          },
          "metadata": {},
          "output_type": "display_data"
        }
      ],
      "source": [
        "idx = 1000\n",
        "print(train[idx][1], train[idx][0].shape)\n",
        "img = tensor_img_transform(train[idx][0].data)\n",
        "plt.imshow(img, cmap=\"gray\")\n",
        "plt.show()"
      ]
    },
    {
      "cell_type": "markdown",
      "metadata": {
        "id": "S6iBbzGyLLkQ"
      },
      "source": [
        "## Fine-tuning MobileNetV2"
      ]
    },
    {
      "cell_type": "code",
      "execution_count": null,
      "metadata": {
        "id": "pQFGIeaRLLkR"
      },
      "outputs": [],
      "source": [
        "def train(model, loss_func, optimizer, device, data_loader, epoch, log_interval=10):\n",
        "    model.train()\n",
        "    for batch_idx, (data, target) in enumerate(data_loader):\n",
        "        data = data.repeat(1, 3, 1, 1)\n",
        "        data, target = data.to(device), target.to(device)\n",
        "        optimizer.zero_grad()\n",
        "        output = model(data)\n",
        "        loss = loss_func(output, target)\n",
        "        loss.backward()\n",
        "        optimizer.step()\n",
        "        if batch_idx % log_interval == 0:\n",
        "            print('Train Epoch: {} [{}/{} ({:.0f}%)]\\tLoss: {:.6f}'.format(\n",
        "                epoch,\n",
        "                batch_idx * len(data),\n",
        "                len(data_loader.dataset),\n",
        "                100 * batch_idx / len(data_loader),\n",
        "                loss.item()\n",
        "            ))\n",
        "    return loss.item()"
      ]
    },
    {
      "cell_type": "code",
      "execution_count": null,
      "metadata": {
        "id": "AJOuX5F_LLkR"
      },
      "outputs": [],
      "source": [
        "def validation(model, device, data_loader, loss_func):\n",
        "    model.eval()\n",
        "    val_loss = 0\n",
        "    correct = 0\n",
        "    with torch.no_grad():\n",
        "        for data, target in data_loader:\n",
        "            data = data.repeat(1, 3, 1, 1)\n",
        "            data, target = data.to(device), target.to(device)\n",
        "            output = model(data)\n",
        "            val_loss += loss_func(output, target).item()\n",
        "            pred = output.argmax(dim=1, keepdim=True)\n",
        "            correct += pred.eq(target.view_as(pred)).sum().item()\n",
        "\n",
        "    val_loss /= len(data_loader.dataset)\n",
        "    accuracy = 100 * correct / len(data_loader.dataset)\n",
        "\n",
        "    print('Validation set: Average loss: {:.4f}, Accuracy: {}/{} ({:.0f}%)'.format(\n",
        "        val_loss,\n",
        "        correct,\n",
        "        len(data_loader.dataset),\n",
        "        accuracy,\n",
        "    ))\n",
        "    return val_loss, accuracy"
      ]
    },
    {
      "cell_type": "code",
      "execution_count": null,
      "metadata": {
        "id": "Pz7Hxf0FLLkR"
      },
      "outputs": [],
      "source": [
        "# load pre-trained model\n",
        "model = mobilenet_v2(weights=MobileNet_V2_Weights.IMAGENET1K_V2)\n",
        "# update the last layer to return only 10 outputs instead of 1000\n",
        "model.classifier[1] = torch.nn.Linear(in_features=model.classifier[1].in_features, out_features=10)\n",
        "model.to(device)"
      ]
    },
    {
      "cell_type": "code",
      "execution_count": null,
      "metadata": {
        "colab": {
          "base_uri": "https://localhost:8080/"
        },
        "id": "1-CTBeE_LLkR",
        "outputId": "011931ca-4137-4a24-e4b0-0e3347711d33"
      },
      "outputs": [
        {
          "name": "stderr",
          "output_type": "stream",
          "text": [
            "/usr/local/lib/python3.10/dist-packages/torch/utils/data/dataloader.py:557: UserWarning: This DataLoader will create 4 worker processes in total. Our suggested max number of worker in current system is 2, which is smaller than what this DataLoader is going to create. Please be aware that excessive worker creation might get DataLoader running slow or even freeze, lower the worker number to avoid potential slowness/freeze if necessary.\n",
            "  warnings.warn(_create_warning_msg(\n"
          ]
        },
        {
          "name": "stdout",
          "output_type": "stream",
          "text": [
            "Train Epoch: 1 [0/57000 (0%)]\tLoss: 2.360313\n",
            "Train Epoch: 1 [5000/57000 (9%)]\tLoss: 0.956260\n",
            "Train Epoch: 1 [10000/57000 (18%)]\tLoss: 0.390390\n",
            "Train Epoch: 1 [15000/57000 (26%)]\tLoss: 0.226124\n",
            "Train Epoch: 1 [20000/57000 (35%)]\tLoss: 0.316142\n",
            "Train Epoch: 1 [25000/57000 (44%)]\tLoss: 0.164920\n",
            "Train Epoch: 1 [30000/57000 (53%)]\tLoss: 0.183805\n",
            "Train Epoch: 1 [35000/57000 (61%)]\tLoss: 0.105684\n",
            "Train Epoch: 1 [40000/57000 (70%)]\tLoss: 0.201002\n",
            "Train Epoch: 1 [45000/57000 (79%)]\tLoss: 0.128484\n",
            "Train Epoch: 1 [50000/57000 (88%)]\tLoss: 0.164395\n",
            "Train Epoch: 1 [55000/57000 (96%)]\tLoss: 0.081294\n",
            "Validation set: Average loss: 0.0003, Accuracy: 2863/3000 (95%)\n",
            "Train Epoch: 2 [0/57000 (0%)]\tLoss: 0.081058\n",
            "Train Epoch: 2 [5000/57000 (9%)]\tLoss: 0.060998\n",
            "Train Epoch: 2 [10000/57000 (18%)]\tLoss: 0.144577\n",
            "Train Epoch: 2 [15000/57000 (26%)]\tLoss: 0.104682\n",
            "Train Epoch: 2 [20000/57000 (35%)]\tLoss: 0.055112\n",
            "Train Epoch: 2 [25000/57000 (44%)]\tLoss: 0.118724\n",
            "Train Epoch: 2 [30000/57000 (53%)]\tLoss: 0.103179\n",
            "Train Epoch: 2 [35000/57000 (61%)]\tLoss: 0.067816\n",
            "Train Epoch: 2 [40000/57000 (70%)]\tLoss: 0.086390\n",
            "Train Epoch: 2 [45000/57000 (79%)]\tLoss: 0.081496\n",
            "Train Epoch: 2 [50000/57000 (88%)]\tLoss: 0.072395\n",
            "Train Epoch: 2 [55000/57000 (96%)]\tLoss: 0.106892\n",
            "Validation set: Average loss: 0.0003, Accuracy: 2875/3000 (96%)\n",
            "Train Epoch: 3 [0/57000 (0%)]\tLoss: 0.070975\n",
            "Train Epoch: 3 [5000/57000 (9%)]\tLoss: 0.067808\n",
            "Train Epoch: 3 [10000/57000 (18%)]\tLoss: 0.072919\n",
            "Train Epoch: 3 [15000/57000 (26%)]\tLoss: 0.048781\n",
            "Train Epoch: 3 [20000/57000 (35%)]\tLoss: 0.107161\n",
            "Train Epoch: 3 [25000/57000 (44%)]\tLoss: 0.036976\n",
            "Train Epoch: 3 [30000/57000 (53%)]\tLoss: 0.048805\n",
            "Train Epoch: 3 [35000/57000 (61%)]\tLoss: 0.036157\n",
            "Train Epoch: 3 [40000/57000 (70%)]\tLoss: 0.054878\n",
            "Train Epoch: 3 [45000/57000 (79%)]\tLoss: 0.022192\n",
            "Train Epoch: 3 [50000/57000 (88%)]\tLoss: 0.074187\n",
            "Train Epoch: 3 [55000/57000 (96%)]\tLoss: 0.076627\n",
            "Validation set: Average loss: 0.0001, Accuracy: 2934/3000 (98%)\n",
            "Train Epoch: 4 [0/57000 (0%)]\tLoss: 0.057044\n",
            "Train Epoch: 4 [5000/57000 (9%)]\tLoss: 0.020837\n",
            "Train Epoch: 4 [10000/57000 (18%)]\tLoss: 0.030809\n",
            "Train Epoch: 4 [15000/57000 (26%)]\tLoss: 0.063127\n",
            "Train Epoch: 4 [20000/57000 (35%)]\tLoss: 0.029786\n",
            "Train Epoch: 4 [25000/57000 (44%)]\tLoss: 0.085017\n",
            "Train Epoch: 4 [30000/57000 (53%)]\tLoss: 0.054284\n",
            "Train Epoch: 4 [35000/57000 (61%)]\tLoss: 0.053428\n",
            "Train Epoch: 4 [40000/57000 (70%)]\tLoss: 0.035693\n",
            "Train Epoch: 4 [45000/57000 (79%)]\tLoss: 0.013792\n",
            "Train Epoch: 4 [50000/57000 (88%)]\tLoss: 0.021576\n",
            "Train Epoch: 4 [55000/57000 (96%)]\tLoss: 0.038207\n",
            "Validation set: Average loss: 0.0001, Accuracy: 2940/3000 (98%)\n",
            "Train Epoch: 5 [0/57000 (0%)]\tLoss: 0.044696\n",
            "Train Epoch: 5 [5000/57000 (9%)]\tLoss: 0.020923\n",
            "Train Epoch: 5 [10000/57000 (18%)]\tLoss: 0.060733\n",
            "Train Epoch: 5 [15000/57000 (26%)]\tLoss: 0.065728\n",
            "Train Epoch: 5 [20000/57000 (35%)]\tLoss: 0.023417\n",
            "Train Epoch: 5 [25000/57000 (44%)]\tLoss: 0.040864\n",
            "Train Epoch: 5 [30000/57000 (53%)]\tLoss: 0.020158\n",
            "Train Epoch: 5 [35000/57000 (61%)]\tLoss: 0.034254\n",
            "Train Epoch: 5 [40000/57000 (70%)]\tLoss: 0.015287\n",
            "Train Epoch: 5 [45000/57000 (79%)]\tLoss: 0.060843\n",
            "Train Epoch: 5 [50000/57000 (88%)]\tLoss: 0.036839\n",
            "Train Epoch: 5 [55000/57000 (96%)]\tLoss: 0.032513\n"
          ]
        },
        {
          "name": "stderr",
          "output_type": "stream",
          "text": [
            "2024/03/09 17:30:18 WARNING mlflow.utils.requirements_utils: Found torch version (2.1.0+cu121) contains a local version label (+cu121). MLflow logged a pip requirement for this package as 'torch==2.1.0' without the local version label to make it installable from PyPI. To specify pip requirements containing local version labels, please use `conda_env` or `pip_requirements`.\n"
          ]
        },
        {
          "name": "stdout",
          "output_type": "stream",
          "text": [
            "Validation set: Average loss: 0.0001, Accuracy: 2949/3000 (98%)\n"
          ]
        },
        {
          "name": "stderr",
          "output_type": "stream",
          "text": [
            "2024/03/09 17:30:24 WARNING mlflow.utils.requirements_utils: Found jaxlib version (0.4.23+cuda12.cudnn89) contains a local version label (+cuda12.cudnn89). MLflow logged a pip requirement for this package as 'jaxlib==0.4.23' without the local version label to make it installable from PyPI. To specify pip requirements containing local version labels, please use `conda_env` or `pip_requirements`.\n",
            "2024/03/09 17:30:24 WARNING mlflow.utils.requirements_utils: Found torchvision version (0.16.0+cu121) contains a local version label (+cu121). MLflow logged a pip requirement for this package as 'torchvision==0.16.0' without the local version label to make it installable from PyPI. To specify pip requirements containing local version labels, please use `conda_env` or `pip_requirements`.\n"
          ]
        }
      ],
      "source": [
        "params = {\n",
        "    \"epochs\": 5,\n",
        "    \"learning_rate\": 0.2,\n",
        "    \"momentum\": 0.8,\n",
        "    \"reduce_lr_gamma\": 0.7,\n",
        "}\n",
        "\n",
        "LOSS_FUNCTION = CrossEntropyLoss()\n",
        "\n",
        "optimizer = optim.SGD(model.parameters(), lr=params[\"learning_rate\"], momentum=params[\"momentum\"])\n",
        "# optimizer = optim.Adadelta(model.parameters(), lr=params[\"learning_rate\"])\n",
        "# scheduler = StepLR(optimizer, step_size=1, gamma=params[\"reduce_lr_gamma\"])\n",
        "\n",
        "with mlflow.start_run(run_name=\"v2_sgd\"):\n",
        "    mlflow.log_params({\n",
        "        \"batch_size\": BATCH_SIZE,\n",
        "        \"optimizer\": \"SGD\",\n",
        "        **params\n",
        "    })\n",
        "\n",
        "    for epoch in range(1, params[\"epochs\"] + 1):\n",
        "        train_loss = train(model, LOSS_FUNCTION, optimizer, device, train_loader, epoch)\n",
        "        mlflow.log_metric(\"train_loss\", train_loss, step=epoch)\n",
        "\n",
        "        val_loss, val_accuracy = validation(model, device, val_loader, LOSS_FUNCTION)\n",
        "        mlflow.log_metric(\"val_loss\", val_loss, step=epoch)\n",
        "        mlflow.log_metric(\"val_accuracy\", val_accuracy, step=epoch)\n",
        "\n",
        "        # scheduler.step()\n",
        "\n",
        "    mlflow.pytorch.log_model(model, \"model\")"
      ]
    },
    {
      "cell_type": "markdown",
      "metadata": {
        "id": "jWG7NiKOQGcR"
      },
      "source": [
        "## Test set metrics"
      ]
    },
    {
      "cell_type": "code",
      "execution_count": null,
      "metadata": {
        "colab": {
          "base_uri": "https://localhost:8080/"
        },
        "id": "BsYiN5Q-LLkR",
        "outputId": "a3433fb3-c57d-40a8-ef5d-5b30cf657541"
      },
      "outputs": [
        {
          "name": "stderr",
          "output_type": "stream",
          "text": [
            "/usr/local/lib/python3.10/dist-packages/torch/utils/data/dataloader.py:557: UserWarning: This DataLoader will create 4 worker processes in total. Our suggested max number of worker in current system is 2, which is smaller than what this DataLoader is going to create. Please be aware that excessive worker creation might get DataLoader running slow or even freeze, lower the worker number to avoid potential slowness/freeze if necessary.\n",
            "  warnings.warn(_create_warning_msg(\n"
          ]
        },
        {
          "name": "stdout",
          "output_type": "stream",
          "text": [
            "Validation set: Average loss: 0.0001, Accuracy: 9842/10000 (98%)\n",
            "0.00010450141448527574 98.42\n"
          ]
        }
      ],
      "source": [
        "test_loss, test_accuracy = validation(model, device, test_loader, LOSS_FUNCTION)\n",
        "print(test_loss, test_accuracy)"
      ]
    },
    {
      "cell_type": "code",
      "execution_count": null,
      "metadata": {
        "id": "QOvRFmegUao8"
      },
      "outputs": [],
      "source": [
        "torch.save(model, \"../data/models/mnist_model.pth\")"
      ]
    },
    {
      "cell_type": "code",
      "execution_count": null,
      "metadata": {
        "id": "Bd6MDKc-WBdU"
      },
      "outputs": [],
      "source": []
    }
  ],
  "metadata": {
    "accelerator": "GPU",
    "colab": {
      "gpuType": "T4",
      "provenance": []
    },
    "kernelspec": {
      "display_name": "Python 3",
      "name": "python3"
    },
    "language_info": {
      "codemirror_mode": {
        "name": "ipython",
        "version": 3
      },
      "file_extension": ".py",
      "mimetype": "text/x-python",
      "name": "python",
      "nbconvert_exporter": "python",
      "pygments_lexer": "ipython3",
      "version": "3.12.2"
    }
  },
  "nbformat": 4,
  "nbformat_minor": 0
}
